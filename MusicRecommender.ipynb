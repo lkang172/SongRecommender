{
 "cells": [
  {
   "cell_type": "code",
   "execution_count": 57,
   "id": "9dad60ae-fb32-4449-b368-0245b3c157e9",
   "metadata": {},
   "outputs": [
    {
     "name": "stdout",
     "output_type": "stream",
     "text": [
      "          Unnamed: 0   danceability         energy            key  \\\n",
      "count  114000.000000  114000.000000  114000.000000  114000.000000   \n",
      "mean        0.500000       0.575432       0.641383       0.482649   \n",
      "std         0.288679       0.176185       0.251529       0.323635   \n",
      "min         0.000000       0.000000       0.000000       0.000000   \n",
      "25%         0.250000       0.462944       0.472000       0.181818   \n",
      "50%         0.500000       0.588832       0.685000       0.454545   \n",
      "75%         0.750000       0.705584       0.854000       0.727273   \n",
      "max         1.000000       1.000000       1.000000       1.000000   \n",
      "\n",
      "            loudness           mode    speechiness   acousticness  \\\n",
      "count  114000.000000  114000.000000  114000.000000  114000.000000   \n",
      "mean        0.763406       0.637553       0.087722       0.316175   \n",
      "std         0.093027       0.480709       0.109567       0.333858   \n",
      "min         0.000000       0.000000       0.000000       0.000000   \n",
      "25%         0.730962       0.000000       0.037202       0.016968   \n",
      "50%         0.786619       1.000000       0.050674       0.169679   \n",
      "75%         0.823632       1.000000       0.087565       0.600402   \n",
      "max         1.000000       1.000000       1.000000       1.000000   \n",
      "\n",
      "       instrumentalness       liveness        valence          tempo  \\\n",
      "count     114000.000000  114000.000000  114000.000000  114000.000000   \n",
      "mean           0.156050       0.213553       0.476450       0.501898   \n",
      "std            0.309555       0.190378       0.260564       0.123178   \n",
      "min            0.000000       0.000000       0.000000       0.000000   \n",
      "25%            0.000000       0.098000       0.261307       0.407684   \n",
      "50%            0.000042       0.132000       0.466332       0.501360   \n",
      "75%            0.049000       0.273000       0.686432       0.575543   \n",
      "max            1.000000       1.000000       1.000000       1.000000   \n",
      "\n",
      "       time_signature  \n",
      "count   114000.000000  \n",
      "mean         0.780807  \n",
      "std          0.086524  \n",
      "min          0.000000  \n",
      "25%          0.800000  \n",
      "50%          0.800000  \n",
      "75%          0.800000  \n",
      "max          1.000000  \n"
     ]
    }
   ],
   "source": [
    "import pandas as pd\n",
    "import numpy as np\n",
    "import matplotlib as plt\n",
    "import seaborn as sns\n",
    "from sklearn.preprocessing import StandardScaler, MinMaxScaler\n",
    "from sklearn.metrics.pairwise import cosine_similarity\n",
    "from sklearn.cluster import KMeans\n",
    "\n",
    "df = pd.read_csv(\"music_dataset.csv\")\n",
    "df = df.drop(columns=[\"track_id\", \"popularity\", \"duration_ms\", \"track_id\", \"artists\", \"album_name\"])\n",
    "\n",
    "X = df.drop(columns=[\"track_name\"])\n",
    "y = df[\"track_name\"]\n",
    "\n",
    "X_numeric = X.select_dtypes(include=[np.number])\n",
    "\n",
    "min_max_scaler = MinMaxScaler()\n",
    "X_normalized = min_max_scaler.fit_transform(X_numeric)\n",
    "X_normalized_df = pd.DataFrame(X_normalized, columns=X_numeric.columns)\n",
    "\n",
    "print(X_normalized_df.describe())"
   ]
  }
 ],
 "metadata": {
  "kernelspec": {
   "display_name": "Python 3 (ipykernel)",
   "language": "python",
   "name": "python3"
  },
  "language_info": {
   "codemirror_mode": {
    "name": "ipython",
    "version": 3
   },
   "file_extension": ".py",
   "mimetype": "text/x-python",
   "name": "python",
   "nbconvert_exporter": "python",
   "pygments_lexer": "ipython3",
   "version": "3.12.4"
  }
 },
 "nbformat": 4,
 "nbformat_minor": 5
}
